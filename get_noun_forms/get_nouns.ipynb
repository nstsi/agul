{
  "nbformat": 4,
  "nbformat_minor": 0,
  "metadata": {
    "colab": {
      "name": "get_nouns.ipynb",
      "provenance": []
    },
    "kernelspec": {
      "name": "python3",
      "display_name": "Python 3"
    },
    "language_info": {
      "name": "python"
    }
  },
  "cells": [
    {
      "cell_type": "markdown",
      "source": [
        "# Get all nouns"
      ],
      "metadata": {
        "id": "474AublYPFTH"
      }
    },
    {
      "cell_type": "code",
      "source": [
        "pip install pymorphy2"
      ],
      "metadata": {
        "id": "JFihEbw4PmwE"
      },
      "execution_count": 21,
      "outputs": []
    },
    {
      "cell_type": "code",
      "execution_count": 3,
      "metadata": {
        "id": "yFdn6bvDO8oC"
      },
      "outputs": [],
      "source": [
        "import csv\n",
        "import re\n",
        "\n",
        "import pandas as pd\n",
        "import pymorphy2\n",
        "morph = pymorphy2.MorphAnalyzer()"
      ]
    },
    {
      "cell_type": "markdown",
      "source": [
        "## 1. Make a dataframe out of csv file\n",
        "And right away add a column for POS tags "
      ],
      "metadata": {
        "id": "f2Re7repPV9f"
      }
    },
    {
      "cell_type": "code",
      "source": [
        "voc_cols = ['rus', 'agul']\n",
        "df_voc = pd.read_csv('Agul_dict.csv', names=voc_cols)\n",
        "df_voc['pos'] = ''"
      ],
      "metadata": {
        "id": "EQs3iJw6PIYB"
      },
      "execution_count": 4,
      "outputs": []
    },
    {
      "cell_type": "code",
      "source": [
        "print(df_voc.head(2))"
      ],
      "metadata": {
        "colab": {
          "base_uri": "https://localhost:8080/"
        },
        "id": "0ZxGjDP8PtlZ",
        "outputId": "632d40c1-30f3-44b6-840d-8e7218dfc27c"
      },
      "execution_count": 5,
      "outputs": [
        {
          "output_type": "stream",
          "name": "stdout",
          "text": [
            "     rus          agul pos\n",
            "0   бязь  агъ (ди, ар)    \n",
            "1  бедро   агъ (у, ар)    \n"
          ]
        }
      ]
    },
    {
      "cell_type": "markdown",
      "source": [
        "## 2. Get lists with nouns"
      ],
      "metadata": {
        "id": "D9TLk-zzP84c"
      }
    },
    {
      "cell_type": "code",
      "source": [
        "good_nouns = []  # nouns for which all forms are goven\n",
        "bad_nouns = []  # nouns for which only Sg Nom form is given\n",
        "\n",
        "for index, row in df_voc.iterrows():\n",
        "    p = morph.parse(row['rus'])[0]\n",
        "    pos_ = p.tag.POS\n",
        "    if pos_ == 'NOUN':  # since we need only nouns\n",
        "        # first change capital \"i\" and \"1\" to Palochka (\"ӏ\"):\n",
        "        row_agul = re.sub('[I1]', 'ӏ', row['agul'])\n",
        "        if '(' in row['agul']:\n",
        "            # for \"good\" nouns this cell looks like this: агъ (ди, ар)\n",
        "            good_nouns.append([row['rus'], row_agul])\n",
        "        else:\n",
        "            # for \"bad\" nouns  this cell looks like this: азархана, — no parentheses\n",
        "            bad_nouns.append([row['rus'], row['agul']])\n",
        "    \n",
        "    else:\n",
        "        pass"
      ],
      "metadata": {
        "id": "O88BFMfeQaHN"
      },
      "execution_count": 13,
      "outputs": []
    },
    {
      "cell_type": "markdown",
      "source": [
        "## 3. Write nouns into csv files"
      ],
      "metadata": {
        "id": "1I8Rc6cjRvF8"
      }
    },
    {
      "cell_type": "code",
      "source": [
        "def list_to_csv(list_: list, name_: str):\n",
        "    df = pd.DataFrame(list_)\n",
        "    df.columns = ['rus', 'agul']\n",
        "    df = df[['agul', 'rus']]\n",
        "    csv_name = name_ + '.csv'\n",
        "    df.to_csv(csv_name, index=False)\n",
        "    print(df.head(5))"
      ],
      "metadata": {
        "id": "Ebm3Hl1QPivw"
      },
      "execution_count": 18,
      "outputs": []
    },
    {
      "cell_type": "code",
      "source": [
        "list_to_csv(good_nouns, 'good_nouns')"
      ],
      "metadata": {
        "colab": {
          "base_uri": "https://localhost:8080/"
        },
        "id": "sDVSTxLGSBcL",
        "outputId": "77a30f42-1e59-4f43-f555-d1e755a6bccd"
      },
      "execution_count": 19,
      "outputs": [
        {
          "output_type": "stream",
          "name": "stdout",
          "text": [
            "                   agul     rus\n",
            "0          агъ (ди, ар)    бязь\n",
            "1           агъ (у, ар)   бедро\n",
            "2        айван (ди, ар)  балкон\n",
            "3  Аллагь (Аллагьди, -)     Бог\n",
            "4       алухӏуб (а, ар)   брань\n"
          ]
        }
      ]
    },
    {
      "cell_type": "code",
      "source": [
        "list_to_csv(bad_nouns, 'bad_nouns')"
      ],
      "metadata": {
        "colab": {
          "base_uri": "https://localhost:8080/"
        },
        "id": "9BTUOE77btEX",
        "outputId": "47011399-7be7-4957-ce31-d03556eaa073"
      },
      "execution_count": 20,
      "outputs": [
        {
          "output_type": "stream",
          "name": "stdout",
          "text": [
            "        agul       rus\n",
            "0   азархана  больница\n",
            "1  аттрухъуб      бред\n",
            "2   ахттилат    беседа\n",
            "3    багувел  близость\n",
            "4       бала      беда\n"
          ]
        }
      ]
    }
  ]
}