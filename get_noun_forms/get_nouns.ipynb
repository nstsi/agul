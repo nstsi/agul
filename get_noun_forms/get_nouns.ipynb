{
  "nbformat": 4,
  "nbformat_minor": 0,
  "metadata": {
    "colab": {
      "name": "get_nouns.ipynb",
      "provenance": []
    },
    "kernelspec": {
      "name": "python3",
      "display_name": "Python 3"
    },
    "language_info": {
      "name": "python"
    }
  },
  "cells": [
    {
      "cell_type": "markdown",
      "source": [
        "# Get all nouns"
      ],
      "metadata": {
        "id": "474AublYPFTH"
      }
    },
    {
      "cell_type": "code",
      "source": [
        "pip install pymorphy2"
      ],
      "metadata": {
        "id": "JFihEbw4PmwE"
      },
      "execution_count": 31,
      "outputs": []
    },
    {
      "cell_type": "code",
      "execution_count": 32,
      "metadata": {
        "id": "yFdn6bvDO8oC"
      },
      "outputs": [],
      "source": [
        "import csv\n",
        "import re\n",
        "\n",
        "import pandas as pd\n",
        "import pymorphy2\n",
        "morph = pymorphy2.MorphAnalyzer()"
      ]
    },
    {
      "cell_type": "markdown",
      "source": [
        "## 1. Make a dataframe out of [Agul_dict.csv](https://github.com/nstsi/agul/blob/master/get_noun_forms/Agul_dict.csv) file\n",
        "And right away add a column for POS tags "
      ],
      "metadata": {
        "id": "f2Re7repPV9f"
      }
    },
    {
      "cell_type": "code",
      "source": [
        "voc_cols = ['rus', 'agul']\n",
        "df_voc = pd.read_csv('Agul_dict.csv', names=voc_cols)\n",
        "df_voc['pos'] = ''"
      ],
      "metadata": {
        "id": "EQs3iJw6PIYB"
      },
      "execution_count": 33,
      "outputs": []
    },
    {
      "cell_type": "code",
      "source": [
        "print(df_voc.head(5))"
      ],
      "metadata": {
        "colab": {
          "base_uri": "https://localhost:8080/"
        },
        "id": "0ZxGjDP8PtlZ",
        "outputId": "a936ecf0-5a63-4324-ebca-4404cc3535cc"
      },
      "execution_count": 35,
      "outputs": [
        {
          "output_type": "stream",
          "name": "stdout",
          "text": [
            "        rus                                               agul pos\n",
            "0      бязь                                       агъ (ди, ар)    \n",
            "1     бедро                                        агъ (у, ар)    \n",
            "2   бродить  адаркас (адаркай, адаркуна, адарк, адаркуб, ад...    \n",
            "3  больница                                           азархана    \n",
            "4    балкон                                     айван (ди, ар)    \n"
          ]
        }
      ]
    },
    {
      "cell_type": "markdown",
      "source": [
        "## 2. Get lists with nouns"
      ],
      "metadata": {
        "id": "D9TLk-zzP84c"
      }
    },
    {
      "cell_type": "code",
      "source": [
        "good_nouns = []  # nouns for which all forms are given\n",
        "bad_nouns = []  # nouns for which only the Sg Nom form is given\n",
        "\n",
        "for index, row in df_voc.iterrows():\n",
        "    p = morph.parse(row['rus'])[0]\n",
        "    pos_ = p.tag.POS\n",
        "    if pos_ == 'NOUN':  # since we need only nouns\n",
        "        \n",
        "        # first change capital \"i\" to Palochka (\"ӏ\"):\n",
        "        row_agul = re.sub('[I1]', 'ӏ', row['agul'])\n",
        "        \n",
        "        if '(' in row['agul']:\n",
        "            # for \"good\" nouns this cell looks like this: агъ (ди, ар)\n",
        "            good_nouns.append([row['rus'], row_agul])\n",
        "        else:\n",
        "            # for \"bad\" nouns  this cell looks like this: азархана, — no parentheses\n",
        "            bad_nouns.append([row['rus'], row['agul']])\n",
        "    \n",
        "    else:\n",
        "        pass"
      ],
      "metadata": {
        "id": "O88BFMfeQaHN"
      },
      "execution_count": 38,
      "outputs": []
    },
    {
      "cell_type": "markdown",
      "source": [
        "## 3. Write nouns into csv files [good_nouns.csv](https://github.com/nstsi/agul/blob/master/get_noun_forms/results/good_nouns.csv) and [bad_nouns.csv](https://github.com/nstsi/agul/blob/master/get_noun_forms/results/bad_nouns.csv)"
      ],
      "metadata": {
        "id": "1I8Rc6cjRvF8"
      }
    },
    {
      "cell_type": "code",
      "source": [
        "def list_to_csv(list_: list, name_: str):\n",
        "    df = pd.DataFrame(list_)\n",
        "    df.columns = ['rus', 'agul']\n",
        "    df = df[['agul', 'rus']]\n",
        "    csv_name = name_ + '.csv'\n",
        "    df.to_csv(csv_name, index=False)\n",
        "    print(df.head(5))"
      ],
      "metadata": {
        "id": "Ebm3Hl1QPivw"
      },
      "execution_count": 37,
      "outputs": []
    },
    {
      "cell_type": "code",
      "source": [
        "list_to_csv(good_nouns, 'good_nouns')"
      ],
      "metadata": {
        "colab": {
          "base_uri": "https://localhost:8080/"
        },
        "id": "sDVSTxLGSBcL",
        "outputId": "2aa70762-6089-45f7-a1b4-8e3fef380cc9"
      },
      "execution_count": null,
      "outputs": [
        {
          "output_type": "stream",
          "name": "stdout",
          "text": [
            "                   agul     rus\n",
            "0          агъ (ди, ар)    бязь\n",
            "1           агъ (у, ар)   бедро\n",
            "2        айван (ди, ар)  балкон\n",
            "3  Аллагь (Аллагьди, -)     Бог\n",
            "4       алухӏуб (а, ар)   брань\n"
          ]
        }
      ]
    },
    {
      "cell_type": "code",
      "source": [
        "list_to_csv(bad_nouns, 'bad_nouns')"
      ],
      "metadata": {
        "colab": {
          "base_uri": "https://localhost:8080/"
        },
        "id": "9BTUOE77btEX",
        "outputId": "4fe8a67c-3737-4a99-ce0a-7286ab5388b0"
      },
      "execution_count": null,
      "outputs": [
        {
          "output_type": "stream",
          "name": "stdout",
          "text": [
            "        agul       rus\n",
            "0   азархана  больница\n",
            "1  аттрухъуб      бред\n",
            "2   ахттилат    беседа\n",
            "3    багувел  близость\n",
            "4       бала      беда\n"
          ]
        }
      ]
    }
  ]
}