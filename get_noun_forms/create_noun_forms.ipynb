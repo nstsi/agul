{
  "nbformat": 4,
  "nbformat_minor": 0,
  "metadata": {
    "colab": {
      "name": "create_noun_forms.ipynb",
      "provenance": []
    },
    "kernelspec": {
      "name": "python3",
      "display_name": "Python 3"
    },
    "language_info": {
      "name": "python"
    }
  },
  "cells": [
    {
      "cell_type": "markdown",
      "source": [
        "# Create noun forms"
      ],
      "metadata": {
        "id": "hJxyjVf0TLVt"
      }
    },
    {
      "cell_type": "code",
      "execution_count": 2,
      "metadata": {
        "id": "_x78RY-1TESr"
      },
      "outputs": [],
      "source": [
        "import re\n",
        "import pandas as pd"
      ]
    },
    {
      "cell_type": "markdown",
      "source": [
        "0. Manually correct file good_nouns.csv\n",
        "1. Remove all the words which aren't actually nouns\n",
        "2. Leave only nouns, for which the suffixed are given, and move those for which the full forms are given to full_nouns.csv\n",
        "3. Leave only one-word nouns "
      ],
      "metadata": {
        "id": "95d_AmBwTnMs"
      }
    },
    {
      "cell_type": "markdown",
      "source": [
        "## 1. Make dataframes out of csv files"
      ],
      "metadata": {
        "id": "ULBTgTL4TxNu"
      }
    },
    {
      "cell_type": "code",
      "source": [
        "df_suffix_nouns = pd.read_csv('suffix_nouns.csv')"
      ],
      "metadata": {
        "id": "9osMa5klTUWJ"
      },
      "execution_count": 44,
      "outputs": []
    },
    {
      "cell_type": "code",
      "source": [
        "print(df_suffix_nouns.head(3))"
      ],
      "metadata": {
        "colab": {
          "base_uri": "https://localhost:8080/"
        },
        "id": "jaT5scyZTfnk",
        "outputId": "52ced21a-3abf-4d14-e00c-ce93dbd02768"
      },
      "execution_count": 45,
      "outputs": [
        {
          "output_type": "stream",
          "name": "stdout",
          "text": [
            "              agul     rus\n",
            "0  ӏаб (а/ала, ар)  люлька\n",
            "1   ӏатӏуб (а, ар)  пробор\n",
            "2     ӏачӏ (а, ар)    щель\n"
          ]
        }
      ]
    },
    {
      "cell_type": "code",
      "source": [
        "df_form_nouns = pd.read_csv('form_nouns.csv')"
      ],
      "metadata": {
        "id": "-AqnCFztUbig"
      },
      "execution_count": 46,
      "outputs": []
    },
    {
      "cell_type": "code",
      "source": [
        "print(df_form_nouns.head(3))"
      ],
      "metadata": {
        "colab": {
          "base_uri": "https://localhost:8080/"
        },
        "id": "1oewFNaPUYOX",
        "outputId": "7944fccb-ba75-4bbe-fdb4-a3c5099203ed"
      },
      "execution_count": 47,
      "outputs": [
        {
          "output_type": "stream",
          "name": "stdout",
          "text": [
            "                   agul\n",
            "0   ӏашв (ӏашу, ӏашвар)\n",
            "1        ӏекв (ӏеку, -)\n",
            "2  Аллагь (Аллагьди, -)\n"
          ]
        }
      ]
    },
    {
      "cell_type": "markdown",
      "source": [
        "## 2. Create lists for every form"
      ],
      "metadata": {
        "id": "GAg_TWJWUoB6"
      }
    },
    {
      "cell_type": "code",
      "source": [
        "SgNoms = []\n",
        "SgErgs = []\n",
        "PlNoms = []"
      ],
      "metadata": {
        "id": "12wDumPLUoKh"
      },
      "execution_count": 48,
      "outputs": []
    },
    {
      "cell_type": "markdown",
      "source": [
        "## 3. Make forms *Sg Erg* and *Pl Nom* by adding respective suffixes. Add forms to the respective lists."
      ],
      "metadata": {
        "id": "z8JdzTGDUzlZ"
      }
    },
    {
      "cell_type": "code",
      "source": [
        "for index, row in df_suffix_nouns.iterrows():\n",
        "    \n",
        "    # row that looks like 'ӏатӏуб (а, ар)' is split in two:\n",
        "    row_agul = row['agul'].split(' (')\n",
        "    # add the Sg Nom form to the respective list right away:\n",
        "    SgNoms.append(row_agul[0])\n",
        "\n",
        "    suffixes_ = re.sub(\"\\)\", \"\", row_agul[1])\n",
        "    suffixes = suffixes_.split(', ')\n",
        "\n",
        "    if suffixes[0] != '-':\n",
        "        if '/' in suffixes[0]:\n",
        "            # in case we have words for which there are 2 suffix options:\n",
        "            suf1, suf2 = suffixes[0].split('/')\n",
        "            # make forms:\n",
        "            SgErg_1 = row_agul[0] + ':' + row_agul[0] + suf1\n",
        "            SgErgs.append(SgErg_1)\n",
        "            SgErg_2 = row_agul[0] + ':' + row_agul[0] + suf2\n",
        "            SgErgs.append(SgErg_2)\n",
        "        else:\n",
        "            SgErg_ = row_agul[0] + ':' + row_agul[0] + suffixes[0]\n",
        "            SgErgs.append(SgErg_)\n",
        "    # if the suffix isn't given, we won't write anything\n",
        "    else:\n",
        "        pass\n",
        "\n",
        "    if suffixes[1] != '-':\n",
        "        # make forms:\n",
        "        PlNom_ = row_agul[0] + ':' + row_agul[0] + suffixes[1]\n",
        "        PlNoms.append(PlNom_)\n",
        "    # if the suffix isn't given, we won't write anything\n",
        "    else:\n",
        "        pass"
      ],
      "metadata": {
        "id": "diSxJqP3U3pQ"
      },
      "execution_count": 50,
      "outputs": []
    },
    {
      "cell_type": "markdown",
      "source": [
        "## 4. Get forms *Sg Erg* and *Pl Nom* and add them to the respective lists."
      ],
      "metadata": {
        "id": "gqvzhuAfVjan"
      }
    },
    {
      "cell_type": "code",
      "source": [
        "for index, row in df_form_nouns.iterrows():\n",
        "    \n",
        "    # row that looks like \"ӏашв (ӏашу, ӏашвар)\" is split in two:\n",
        "    row_agul = row['agul'].split(' (')\n",
        "    # add the Sg Nom form to the respective list right away:\n",
        "    SgNoms.append(row_agul[0])\n",
        "\n",
        "    forms_ = re.sub(\"\\)\", \"\", row_agul[1])\n",
        "    forms = forms_.split(', ')\n",
        "    \n",
        "    if forms[0] != '-':\n",
        "        if '/' in forms[0]:\n",
        "            # in case we have words for which there are 2 form options:\n",
        "            form3, form4 = forms[0].split('/')\n",
        "            SgErg1 = row_agul[0] + ':' + form3\n",
        "            SgErgs.append(SgErg_1)\n",
        "            SgErg_2 = row_agul[0] + ':' + form4\n",
        "            SgErgs.append(SgErg_2)\n",
        "        else:\n",
        "            SgErg_ = row_agul[0] + ':' + forms[0]\n",
        "            SgErgs.append(SgErg_)\n",
        "    # if the form isn't given, we won't write anything\n",
        "    else:\n",
        "        pass\n",
        "\n",
        "    if forms[1] != '-':\n",
        "        if '/' in forms[1]:\n",
        "            # in case we have words for which there are 2 form options:\n",
        "            form1, form2 = forms[1].split('/')\n",
        "            PlNom_1 = row_agul[0] + ':' + form1\n",
        "            PlNoms.append(PlNom_1)\n",
        "            PlNom_2 = row_agul[0] + ':' + form2\n",
        "            PlNoms.append(PlNom_2)\n",
        "        else:\n",
        "            PlNom_ = row_agul[0] + ':' + forms[1]\n",
        "            PlNoms.append(PlNom_)\n",
        "    # if the form isn't given, we won't write anything\n",
        "    else:\n",
        "        pass"
      ],
      "metadata": {
        "id": "sQ7x5tmkVeUh"
      },
      "execution_count": 51,
      "outputs": []
    },
    {
      "cell_type": "markdown",
      "source": [
        "## 5. Write forms into respective csv files "
      ],
      "metadata": {
        "id": "utQPbzUMVufF"
      }
    },
    {
      "cell_type": "code",
      "source": [
        "def list_to_csv(list_: list, name_: str):\n",
        "    df = pd.DataFrame(list_)\n",
        "    csv_name = name_ + '.csv'\n",
        "    df.to_csv(csv_name, index=False)\n",
        "    print(df.head(3))"
      ],
      "metadata": {
        "id": "hsUumxLYVws5"
      },
      "execution_count": 52,
      "outputs": []
    },
    {
      "cell_type": "code",
      "source": [
        "list_to_csv(SgNoms, 'SgNoms')"
      ],
      "metadata": {
        "id": "qrblv_MTVyvX",
        "colab": {
          "base_uri": "https://localhost:8080/"
        },
        "outputId": "6e1143ff-a2a0-425b-8f67-33e37f347f6f"
      },
      "execution_count": 53,
      "outputs": [
        {
          "output_type": "stream",
          "name": "stdout",
          "text": [
            "        0\n",
            "0     ӏаб\n",
            "1  ӏатӏуб\n",
            "2    ӏачӏ\n"
          ]
        }
      ]
    },
    {
      "cell_type": "code",
      "source": [
        "list_to_csv(SgErgs, 'SgErgs')"
      ],
      "metadata": {
        "colab": {
          "base_uri": "https://localhost:8080/"
        },
        "id": "y94Q14iWBpSU",
        "outputId": "ca7ae10d-73ec-4162-e6ce-e2c6cac5adbf"
      },
      "execution_count": 54,
      "outputs": [
        {
          "output_type": "stream",
          "name": "stdout",
          "text": [
            "                0\n",
            "0        ӏаб:ӏаба\n",
            "1      ӏаб:ӏабала\n",
            "2  ӏатӏуб:ӏатӏуба\n"
          ]
        }
      ]
    },
    {
      "cell_type": "code",
      "source": [
        "list_to_csv(PlNoms, 'PlNoms')"
      ],
      "metadata": {
        "colab": {
          "base_uri": "https://localhost:8080/"
        },
        "id": "ZibkJ4tZBqPo",
        "outputId": "8f8ce72c-71db-43ae-9991-11b708567ccf"
      },
      "execution_count": 55,
      "outputs": [
        {
          "output_type": "stream",
          "name": "stdout",
          "text": [
            "                 0\n",
            "0        ӏаб:ӏабар\n",
            "1  ӏатӏуб:ӏатӏубар\n",
            "2      ӏачӏ:ӏачӏар\n"
          ]
        }
      ]
    }
  ]
}