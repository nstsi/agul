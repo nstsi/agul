{
  "nbformat": 4,
  "nbformat_minor": 0,
  "metadata": {
    "colab": {
      "name": "clean_corpus.ipynb",
      "provenance": []
    },
    "kernelspec": {
      "name": "python3",
      "display_name": "Python 3"
    },
    "language_info": {
      "name": "python"
    }
  },
  "cells": [
    {
      "cell_type": "markdown",
      "source": [
        "## Code for preprocessing [the Gospel of Luke in Agul](https://ibtrussia.org/en/text?m=AGL&l=Luke&g=0) translated by the Institute for Bible Translation.\n",
        "The result of this preprocessing can be found at https://github.com/nstsi/agul/blob/master/coverage/corpus/clean_LukeAgul.txt."
      ],
      "metadata": {
        "id": "VJrxwL2TOAkI"
      }
    },
    {
      "cell_type": "code",
      "source": [
        "import re"
      ],
      "metadata": {
        "id": "L9dd_CvVehkR"
      },
      "execution_count": null,
      "outputs": []
    },
    {
      "cell_type": "code",
      "execution_count": null,
      "metadata": {
        "id": "yvDAcuhHeOZB"
      },
      "outputs": [],
      "source": [
        "with open('LukeAgul.txt', encoding='utf-8') as l, \\\n",
        "        open('clean_LukeAgul.txt', 'w', encoding='utf-8') as cl:\n",
        "    for line in l:\n",
        "\n",
        "        # we don't need empty lines:\n",
        "        if not line.isspace():\n",
        "\n",
        "            # we don't need numbers          \n",
        "            line_ = re.sub(r'\\.\\d', ' ', line)\n",
        "\n",
        "            # we dont' want words to be split\n",
        "            line_ = re.sub(r'[^а-яА-ЯӀ\\n\\s]', '', line_)\n",
        "            \n",
        "            if not line_.isspace():\n",
        "                cl.write(line_)\n",
        "                "
      ]
    }
  ]
}